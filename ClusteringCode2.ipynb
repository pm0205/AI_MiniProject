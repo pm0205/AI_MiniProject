{
 "cells": [
  {
   "cell_type": "code",
   "execution_count": 1,
   "id": "dcd80917",
   "metadata": {},
   "outputs": [],
   "source": [
    "#Problem statment\n",
    "#Clustering of the customers in to the different groups so one group of customers may represent those that tend to purchase more\n",
    "#in that mall and some other group may represent that dont purchase that much in a mall.so having these groups of customers that\n",
    "#tells that mallto make better bussiness decisions to make better marketing stratergy."
   ]
  },
  {
   "cell_type": "code",
   "execution_count": 2,
   "id": "88fde490",
   "metadata": {},
   "outputs": [],
   "source": [
    "#It is based on the unsupervised machine learning"
   ]
  },
  {
   "cell_type": "code",
   "execution_count": 3,
   "id": "d8af2fd3",
   "metadata": {},
   "outputs": [],
   "source": [
    "#Import the necessary libraries\n",
    "import numpy as np\n",
    "import pandas as pd\n",
    "import matplotlib.pyplot as plt\n",
    "import seaborn as sns\n",
    "from sklearn.cluster import KMeans"
   ]
  },
  {
   "cell_type": "code",
   "execution_count": 4,
   "id": "fdde5a80",
   "metadata": {},
   "outputs": [],
   "source": [
    "#Data analysis"
   ]
  },
  {
   "cell_type": "code",
   "execution_count": 5,
   "id": "46f57685",
   "metadata": {},
   "outputs": [],
   "source": [
    "#loading the data from csv file to a pandas DataFrame\n",
    "customer_data=pd.read_csv(\"C:\\\\Users\\\\kotha\\\\OneDrive\\\\Desktop\\\\Mall_Customers.csv\")"
   ]
  },
  {
   "cell_type": "code",
   "execution_count": 8,
   "id": "4587b941",
   "metadata": {},
   "outputs": [
    {
     "data": {
      "text/html": [
       "<div>\n",
       "<style scoped>\n",
       "    .dataframe tbody tr th:only-of-type {\n",
       "        vertical-align: middle;\n",
       "    }\n",
       "\n",
       "    .dataframe tbody tr th {\n",
       "        vertical-align: top;\n",
       "    }\n",
       "\n",
       "    .dataframe thead th {\n",
       "        text-align: right;\n",
       "    }\n",
       "</style>\n",
       "<table border=\"1\" class=\"dataframe\">\n",
       "  <thead>\n",
       "    <tr style=\"text-align: right;\">\n",
       "      <th></th>\n",
       "      <th>CustomerID</th>\n",
       "      <th>Gender</th>\n",
       "      <th>Age</th>\n",
       "      <th>Annual Income (k$)</th>\n",
       "      <th>Spending Score (1-100)</th>\n",
       "    </tr>\n",
       "  </thead>\n",
       "  <tbody>\n",
       "    <tr>\n",
       "      <th>0</th>\n",
       "      <td>1</td>\n",
       "      <td>Male</td>\n",
       "      <td>19</td>\n",
       "      <td>15</td>\n",
       "      <td>39</td>\n",
       "    </tr>\n",
       "    <tr>\n",
       "      <th>1</th>\n",
       "      <td>2</td>\n",
       "      <td>Male</td>\n",
       "      <td>21</td>\n",
       "      <td>15</td>\n",
       "      <td>81</td>\n",
       "    </tr>\n",
       "    <tr>\n",
       "      <th>2</th>\n",
       "      <td>3</td>\n",
       "      <td>Female</td>\n",
       "      <td>20</td>\n",
       "      <td>16</td>\n",
       "      <td>6</td>\n",
       "    </tr>\n",
       "    <tr>\n",
       "      <th>3</th>\n",
       "      <td>4</td>\n",
       "      <td>Female</td>\n",
       "      <td>23</td>\n",
       "      <td>16</td>\n",
       "      <td>77</td>\n",
       "    </tr>\n",
       "    <tr>\n",
       "      <th>4</th>\n",
       "      <td>5</td>\n",
       "      <td>Female</td>\n",
       "      <td>31</td>\n",
       "      <td>17</td>\n",
       "      <td>40</td>\n",
       "    </tr>\n",
       "  </tbody>\n",
       "</table>\n",
       "</div>"
      ],
      "text/plain": [
       "   CustomerID  Gender  Age  Annual Income (k$)  Spending Score (1-100)\n",
       "0           1    Male   19                  15                      39\n",
       "1           2    Male   21                  15                      81\n",
       "2           3  Female   20                  16                       6\n",
       "3           4  Female   23                  16                      77\n",
       "4           5  Female   31                  17                      40"
      ]
     },
     "execution_count": 8,
     "metadata": {},
     "output_type": "execute_result"
    }
   ],
   "source": [
    "#printing first five rows of the dataframe\n",
    "customer_data.head()"
   ]
  },
  {
   "cell_type": "code",
   "execution_count": 9,
   "id": "34cc59ae",
   "metadata": {},
   "outputs": [
    {
     "data": {
      "text/html": [
       "<div>\n",
       "<style scoped>\n",
       "    .dataframe tbody tr th:only-of-type {\n",
       "        vertical-align: middle;\n",
       "    }\n",
       "\n",
       "    .dataframe tbody tr th {\n",
       "        vertical-align: top;\n",
       "    }\n",
       "\n",
       "    .dataframe thead th {\n",
       "        text-align: right;\n",
       "    }\n",
       "</style>\n",
       "<table border=\"1\" class=\"dataframe\">\n",
       "  <thead>\n",
       "    <tr style=\"text-align: right;\">\n",
       "      <th></th>\n",
       "      <th>CustomerID</th>\n",
       "      <th>Gender</th>\n",
       "      <th>Age</th>\n",
       "      <th>Annual Income (k$)</th>\n",
       "      <th>Spending Score (1-100)</th>\n",
       "    </tr>\n",
       "  </thead>\n",
       "  <tbody>\n",
       "    <tr>\n",
       "      <th>195</th>\n",
       "      <td>196</td>\n",
       "      <td>Female</td>\n",
       "      <td>35</td>\n",
       "      <td>120</td>\n",
       "      <td>79</td>\n",
       "    </tr>\n",
       "    <tr>\n",
       "      <th>196</th>\n",
       "      <td>197</td>\n",
       "      <td>Female</td>\n",
       "      <td>45</td>\n",
       "      <td>126</td>\n",
       "      <td>28</td>\n",
       "    </tr>\n",
       "    <tr>\n",
       "      <th>197</th>\n",
       "      <td>198</td>\n",
       "      <td>Male</td>\n",
       "      <td>32</td>\n",
       "      <td>126</td>\n",
       "      <td>74</td>\n",
       "    </tr>\n",
       "    <tr>\n",
       "      <th>198</th>\n",
       "      <td>199</td>\n",
       "      <td>Male</td>\n",
       "      <td>32</td>\n",
       "      <td>137</td>\n",
       "      <td>18</td>\n",
       "    </tr>\n",
       "    <tr>\n",
       "      <th>199</th>\n",
       "      <td>200</td>\n",
       "      <td>Male</td>\n",
       "      <td>30</td>\n",
       "      <td>137</td>\n",
       "      <td>83</td>\n",
       "    </tr>\n",
       "  </tbody>\n",
       "</table>\n",
       "</div>"
      ],
      "text/plain": [
       "     CustomerID  Gender  Age  Annual Income (k$)  Spending Score (1-100)\n",
       "195         196  Female   35                 120                      79\n",
       "196         197  Female   45                 126                      28\n",
       "197         198    Male   32                 126                      74\n",
       "198         199    Male   32                 137                      18\n",
       "199         200    Male   30                 137                      83"
      ]
     },
     "execution_count": 9,
     "metadata": {},
     "output_type": "execute_result"
    }
   ],
   "source": [
    "#printing last five rows of the dataframe\n",
    "customer_data.tail()"
   ]
  },
  {
   "cell_type": "code",
   "execution_count": 10,
   "id": "06302531",
   "metadata": {},
   "outputs": [
    {
     "data": {
      "text/plain": [
       "(200, 5)"
      ]
     },
     "execution_count": 10,
     "metadata": {},
     "output_type": "execute_result"
    }
   ],
   "source": [
    "#Finding the number of rows nad columns\n",
    "customer_data.shape"
   ]
  },
  {
   "cell_type": "code",
   "execution_count": 13,
   "id": "cfa56c93",
   "metadata": {},
   "outputs": [
    {
     "name": "stdout",
     "output_type": "stream",
     "text": [
      "<class 'pandas.core.frame.DataFrame'>\n",
      "RangeIndex: 200 entries, 0 to 199\n",
      "Data columns (total 5 columns):\n",
      " #   Column                  Non-Null Count  Dtype \n",
      "---  ------                  --------------  ----- \n",
      " 0   CustomerID              200 non-null    int64 \n",
      " 1   Gender                  200 non-null    object\n",
      " 2   Age                     200 non-null    int64 \n",
      " 3   Annual Income (k$)      200 non-null    int64 \n",
      " 4   Spending Score (1-100)  200 non-null    int64 \n",
      "dtypes: int64(4), object(1)\n",
      "memory usage: 7.9+ KB\n"
     ]
    }
   ],
   "source": [
    "#Getting some information about the dataset\n",
    "customer_data.info()"
   ]
  },
  {
   "cell_type": "code",
   "execution_count": 14,
   "id": "369eb6b2",
   "metadata": {},
   "outputs": [
    {
     "data": {
      "text/plain": [
       "CustomerID                0\n",
       "Gender                    0\n",
       "Age                       0\n",
       "Annual Income (k$)        0\n",
       "Spending Score (1-100)    0\n",
       "dtype: int64"
      ]
     },
     "execution_count": 14,
     "metadata": {},
     "output_type": "execute_result"
    }
   ],
   "source": [
    "#Checking the missing values\n",
    "customer_data.isnull().sum()"
   ]
  },
  {
   "cell_type": "code",
   "execution_count": 15,
   "id": "8c3c64c6",
   "metadata": {},
   "outputs": [],
   "source": [
    "#In the given dataset the customer id is useless because we are doing depending upon the score \n",
    "#The group of customers will be classified based on the annual income and spending score."
   ]
  },
  {
   "cell_type": "code",
   "execution_count": 16,
   "id": "48711f57",
   "metadata": {},
   "outputs": [],
   "source": [
    "#Choosing the annual income column and spending score column"
   ]
  },
  {
   "cell_type": "code",
   "execution_count": 18,
   "id": "e8b709df",
   "metadata": {},
   "outputs": [],
   "source": [
    "X=customer_data.iloc[:,[3,4]].values #The columns 3 and 4 represent annual income and spending score"
   ]
  },
  {
   "cell_type": "code",
   "execution_count": 20,
   "id": "8708fb9e",
   "metadata": {},
   "outputs": [
    {
     "name": "stdout",
     "output_type": "stream",
     "text": [
      "[[ 15  39]\n",
      " [ 15  81]\n",
      " [ 16   6]\n",
      " [ 16  77]\n",
      " [ 17  40]\n",
      " [ 17  76]\n",
      " [ 18   6]\n",
      " [ 18  94]\n",
      " [ 19   3]\n",
      " [ 19  72]\n",
      " [ 19  14]\n",
      " [ 19  99]\n",
      " [ 20  15]\n",
      " [ 20  77]\n",
      " [ 20  13]\n",
      " [ 20  79]\n",
      " [ 21  35]\n",
      " [ 21  66]\n",
      " [ 23  29]\n",
      " [ 23  98]\n",
      " [ 24  35]\n",
      " [ 24  73]\n",
      " [ 25   5]\n",
      " [ 25  73]\n",
      " [ 28  14]\n",
      " [ 28  82]\n",
      " [ 28  32]\n",
      " [ 28  61]\n",
      " [ 29  31]\n",
      " [ 29  87]\n",
      " [ 30   4]\n",
      " [ 30  73]\n",
      " [ 33   4]\n",
      " [ 33  92]\n",
      " [ 33  14]\n",
      " [ 33  81]\n",
      " [ 34  17]\n",
      " [ 34  73]\n",
      " [ 37  26]\n",
      " [ 37  75]\n",
      " [ 38  35]\n",
      " [ 38  92]\n",
      " [ 39  36]\n",
      " [ 39  61]\n",
      " [ 39  28]\n",
      " [ 39  65]\n",
      " [ 40  55]\n",
      " [ 40  47]\n",
      " [ 40  42]\n",
      " [ 40  42]\n",
      " [ 42  52]\n",
      " [ 42  60]\n",
      " [ 43  54]\n",
      " [ 43  60]\n",
      " [ 43  45]\n",
      " [ 43  41]\n",
      " [ 44  50]\n",
      " [ 44  46]\n",
      " [ 46  51]\n",
      " [ 46  46]\n",
      " [ 46  56]\n",
      " [ 46  55]\n",
      " [ 47  52]\n",
      " [ 47  59]\n",
      " [ 48  51]\n",
      " [ 48  59]\n",
      " [ 48  50]\n",
      " [ 48  48]\n",
      " [ 48  59]\n",
      " [ 48  47]\n",
      " [ 49  55]\n",
      " [ 49  42]\n",
      " [ 50  49]\n",
      " [ 50  56]\n",
      " [ 54  47]\n",
      " [ 54  54]\n",
      " [ 54  53]\n",
      " [ 54  48]\n",
      " [ 54  52]\n",
      " [ 54  42]\n",
      " [ 54  51]\n",
      " [ 54  55]\n",
      " [ 54  41]\n",
      " [ 54  44]\n",
      " [ 54  57]\n",
      " [ 54  46]\n",
      " [ 57  58]\n",
      " [ 57  55]\n",
      " [ 58  60]\n",
      " [ 58  46]\n",
      " [ 59  55]\n",
      " [ 59  41]\n",
      " [ 60  49]\n",
      " [ 60  40]\n",
      " [ 60  42]\n",
      " [ 60  52]\n",
      " [ 60  47]\n",
      " [ 60  50]\n",
      " [ 61  42]\n",
      " [ 61  49]\n",
      " [ 62  41]\n",
      " [ 62  48]\n",
      " [ 62  59]\n",
      " [ 62  55]\n",
      " [ 62  56]\n",
      " [ 62  42]\n",
      " [ 63  50]\n",
      " [ 63  46]\n",
      " [ 63  43]\n",
      " [ 63  48]\n",
      " [ 63  52]\n",
      " [ 63  54]\n",
      " [ 64  42]\n",
      " [ 64  46]\n",
      " [ 65  48]\n",
      " [ 65  50]\n",
      " [ 65  43]\n",
      " [ 65  59]\n",
      " [ 67  43]\n",
      " [ 67  57]\n",
      " [ 67  56]\n",
      " [ 67  40]\n",
      " [ 69  58]\n",
      " [ 69  91]\n",
      " [ 70  29]\n",
      " [ 70  77]\n",
      " [ 71  35]\n",
      " [ 71  95]\n",
      " [ 71  11]\n",
      " [ 71  75]\n",
      " [ 71   9]\n",
      " [ 71  75]\n",
      " [ 72  34]\n",
      " [ 72  71]\n",
      " [ 73   5]\n",
      " [ 73  88]\n",
      " [ 73   7]\n",
      " [ 73  73]\n",
      " [ 74  10]\n",
      " [ 74  72]\n",
      " [ 75   5]\n",
      " [ 75  93]\n",
      " [ 76  40]\n",
      " [ 76  87]\n",
      " [ 77  12]\n",
      " [ 77  97]\n",
      " [ 77  36]\n",
      " [ 77  74]\n",
      " [ 78  22]\n",
      " [ 78  90]\n",
      " [ 78  17]\n",
      " [ 78  88]\n",
      " [ 78  20]\n",
      " [ 78  76]\n",
      " [ 78  16]\n",
      " [ 78  89]\n",
      " [ 78   1]\n",
      " [ 78  78]\n",
      " [ 78   1]\n",
      " [ 78  73]\n",
      " [ 79  35]\n",
      " [ 79  83]\n",
      " [ 81   5]\n",
      " [ 81  93]\n",
      " [ 85  26]\n",
      " [ 85  75]\n",
      " [ 86  20]\n",
      " [ 86  95]\n",
      " [ 87  27]\n",
      " [ 87  63]\n",
      " [ 87  13]\n",
      " [ 87  75]\n",
      " [ 87  10]\n",
      " [ 87  92]\n",
      " [ 88  13]\n",
      " [ 88  86]\n",
      " [ 88  15]\n",
      " [ 88  69]\n",
      " [ 93  14]\n",
      " [ 93  90]\n",
      " [ 97  32]\n",
      " [ 97  86]\n",
      " [ 98  15]\n",
      " [ 98  88]\n",
      " [ 99  39]\n",
      " [ 99  97]\n",
      " [101  24]\n",
      " [101  68]\n",
      " [103  17]\n",
      " [103  85]\n",
      " [103  23]\n",
      " [103  69]\n",
      " [113   8]\n",
      " [113  91]\n",
      " [120  16]\n",
      " [120  79]\n",
      " [126  28]\n",
      " [126  74]\n",
      " [137  18]\n",
      " [137  83]]\n"
     ]
    }
   ],
   "source": [
    "print(X) #In the array first value represnts annual income and second value represents spending score"
   ]
  },
  {
   "cell_type": "code",
   "execution_count": 21,
   "id": "fd048aaf",
   "metadata": {},
   "outputs": [],
   "source": [
    "#Choosing the number of the clusters\n",
    " \n",
    "#WCCS-> WITHIN CLUSTERS SUM OF SQUARES"
   ]
  },
  {
   "cell_type": "code",
   "execution_count": 22,
   "id": "97490c01",
   "metadata": {},
   "outputs": [],
   "source": [
    "#Finding wccs values for different number of clusters"
   ]
  },
  {
   "cell_type": "code",
   "execution_count": 30,
   "id": "8fa894bf",
   "metadata": {},
   "outputs": [
    {
     "name": "stderr",
     "output_type": "stream",
     "text": [
      "C:\\Users\\kotha\\anaconda3\\lib\\site-packages\\sklearn\\cluster\\_kmeans.py:881: UserWarning: KMeans is known to have a memory leak on Windows with MKL, when there are less chunks than available threads. You can avoid it by setting the environment variable OMP_NUM_THREADS=1.\n",
      "  warnings.warn(\n"
     ]
    }
   ],
   "source": [
    "wccs=[]\n",
    "for i in range(1,11):\n",
    "    kmeans=KMeans(n_clusters=i,init='k-means++',random_state=42)\n",
    "    kmeans.fit(X)\n",
    "    \n",
    "    wccs.append(kmeans.inertia_)\n",
    "    "
   ]
  },
  {
   "cell_type": "code",
   "execution_count": 31,
   "id": "9252f085",
   "metadata": {},
   "outputs": [
    {
     "data": {
      "image/png": "[encoded data removed]",
      "text/plain": [
       "<Figure size 432x288 with 1 Axes>"
      ]
     },
     "metadata": {},
     "output_type": "display_data"
    }
   ],
   "source": [
    "#Plot and elbow graph \n",
    "sns.set()\n",
    "plt.plot(range(1,11),wccs)\n",
    "plt.title(\"The Elbow point Graph\")\n",
    "plt.xlabel('Number of clusters')\n",
    "plt.ylabel('WCCS')\n",
    "plt.show()"
   ]
  },
  {
   "cell_type": "code",
   "execution_count": 32,
   "id": "eaa01a8f",
   "metadata": {},
   "outputs": [],
   "source": [
    "#It is also called cutoff point graph"
   ]
  },
  {
   "cell_type": "code",
   "execution_count": 33,
   "id": "7d5bf4de",
   "metadata": {},
   "outputs": [],
   "source": [
    "#optimum number of clusters is 5"
   ]
  },
  {
   "cell_type": "code",
   "execution_count": 36,
   "id": "1d97737c",
   "metadata": {},
   "outputs": [],
   "source": [
    "#Training the k means clustering model\n",
    "kmeans=KMeans(n_clusters=5,init='k-means++',random_state=0)\n",
    "\n",
    "#Return a label for each data point based on their cluster\n",
    "Y=kmeans.fit_predict(X)"
   ]
  },
  {
   "cell_type": "code",
   "execution_count": 37,
   "id": "64bec3e0",
   "metadata": {},
   "outputs": [
    {
     "name": "stdout",
     "output_type": "stream",
     "text": [
      "[4 3 4 3 4 3 4 3 4 3 4 3 4 3 4 3 4 3 4 3 4 3 4 3 4 3 4 3 4 3 4 3 4 3 4 3 4\n",
      " 3 4 3 4 3 4 1 4 3 1 1 1 1 1 1 1 1 1 1 1 1 1 1 1 1 1 1 1 1 1 1 1 1 1 1 1 1\n",
      " 1 1 1 1 1 1 1 1 1 1 1 1 1 1 1 1 1 1 1 1 1 1 1 1 1 1 1 1 1 1 1 1 1 1 1 1 1\n",
      " 1 1 1 1 1 1 1 1 1 1 1 1 2 0 2 1 2 0 2 0 2 1 2 0 2 0 2 0 2 0 2 1 2 0 2 0 2\n",
      " 0 2 0 2 0 2 0 2 0 2 0 2 0 2 0 2 0 2 0 2 0 2 0 2 0 2 0 2 0 2 0 2 0 2 0 2 0\n",
      " 2 0 2 0 2 0 2 0 2 0 2 0 2 0 2]\n"
     ]
    }
   ],
   "source": [
    "print(Y)"
   ]
  },
  {
   "cell_type": "code",
   "execution_count": 38,
   "id": "3ab5b002",
   "metadata": {},
   "outputs": [],
   "source": [
    "#Data visualization\n",
    "#Visualizing all the clusters\n"
   ]
  },
  {
   "cell_type": "code",
   "execution_count": 40,
   "id": "91534015",
   "metadata": {},
   "outputs": [],
   "source": [
    "#Plotting all the clusters and their centroids\n",
    "#5 clusters=0,1,2,3,4"
   ]
  },
  {
   "cell_type": "code",
   "execution_count": 49,
   "id": "69805618",
   "metadata": {},
   "outputs": [
    {
     "data": {
      "image/png": "[encoded data removed]",
      "text/plain": [
       "<Figure size 576x576 with 1 Axes>"
      ]
     },
     "metadata": {},
     "output_type": "display_data"
    }
   ],
   "source": [
    "plt.figure(figsize=(8,8))\n",
    "plt.scatter(X[Y==0,0],X[Y==0,1],s=50,c='violet',label='Cluster 1')\n",
    "plt.scatter(X[Y==1,0],X[Y==1,1],s=50,c='green',label='Cluster 2')\n",
    "plt.scatter(X[Y==2,0],X[Y==2,1],s=50,c='red',label='Cluster 3')\n",
    "plt.scatter(X[Y==3,0],X[Y==3,1],s=50,c='black',label='Cluster 4')\n",
    "plt.scatter(X[Y==4,0],X[Y==4,1],s=50,c='orange',label='Cluster 5')\n",
    "\n",
    "#Plot the centroids \n",
    "plt.scatter(kmeans.cluster_centers_[:,0],kmeans.cluster_centers_[:,1],s=100,c='cyan',label='centroids')\n",
    "\n",
    "plt.title('Customer Groups')\n",
    "plt.xlabel('Annual Income')\n",
    "plt.ylabel('Spending Score')\n",
    "plt.show()"
   ]
  },
  {
   "cell_type": "code",
   "execution_count": 4,
   "id": "1bf2730f",
   "metadata": {},
   "outputs": [],
   "source": [
    "#This is how the malls improve their markieting and give the great discount on the group of customers"
   ]
  },
  {
   "cell_type": "code",
   "execution_count": 3,
   "id": "8ee00ca6",
   "metadata": {},
   "outputs": [],
   "source": [
    "#In the above example there are some group of customers where the customers are buying and leaving"
   ]
  },
  {
   "cell_type": "code",
   "execution_count": null,
   "id": "38fe5f9b",
   "metadata": {},
   "outputs": [],
   "source": []
  }
 ],
 "metadata": {
  "kernelspec": {
   "display_name": "Python 3 (ipykernel)",
   "language": "python",
   "name": "python3"
  },
  "language_info": {
   "codemirror_mode": {
    "name": "ipython",
    "version": 3
   },
   "file_extension": ".py",
   "mimetype": "text/x-python",
   "name": "python",
   "nbconvert_exporter": "python",
   "pygments_lexer": "ipython3",
   "version": "3.9.7"
  }
 },
 "nbformat": 4,
 "nbformat_minor": 5
}
